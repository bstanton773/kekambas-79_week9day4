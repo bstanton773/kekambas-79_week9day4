{
 "cells": [
  {
   "cell_type": "code",
   "execution_count": null,
   "metadata": {},
   "outputs": [],
   "source": [
    "# Given an array of integers, return how many of them contain an even number of digits.\n",
    "# Example 1:\n",
    "# Input: nums = [12,345,2,6,7896]\n",
    "# Output: 2\n",
    "# Explanation:\n",
    "# 12 contains 2 digits (even number of digits).\n",
    "# 345 contains 3 digits (odd number of digits).\n",
    "# 2 contains 1 digit (odd number of digits).\n",
    "# 6 contains 1 digit (odd number of digits).\n",
    "# 7896 contains 4 digits (even number of digits).\n",
    "# Therefore only 12 and 7896 contain an even number of digits.\n",
    "# Example 2:\n",
    "# Input: nums = [555,901,482,1771]\n",
    "# Output: 1\n",
    "# Explanation:\n",
    "# Only 1771 contains an even number of digits.\n"
   ]
  },
  {
   "cell_type": "code",
   "execution_count": 6,
   "metadata": {},
   "outputs": [
    {
     "data": {
      "text/plain": [
       "2"
      ]
     },
     "execution_count": 6,
     "metadata": {},
     "output_type": "execute_result"
    }
   ],
   "source": [
    "def even_digits(nums):\n",
    "    count = 0\n",
    "    for num in nums:\n",
    "        if len(str(num)) % 2 == 0:\n",
    "            count += 1\n",
    "    return count\n",
    "\n",
    "\n",
    "even_digits([12, 345, 2, 6, 7896])"
   ]
  },
  {
   "cell_type": "code",
   "execution_count": 7,
   "metadata": {},
   "outputs": [
    {
     "data": {
      "text/plain": [
       "1"
      ]
     },
     "execution_count": 7,
     "metadata": {},
     "output_type": "execute_result"
    }
   ],
   "source": [
    "even_digits([555, 901, 482, 1771])"
   ]
  },
  {
   "cell_type": "code",
   "execution_count": 8,
   "metadata": {},
   "outputs": [
    {
     "name": "stdout",
     "output_type": "stream",
     "text": [
      "2\n",
      "1\n"
     ]
    }
   ],
   "source": [
    "def even2(nums):\n",
    "    return len([num for num in nums if len(str(num)) % 2 == 0])\n",
    "\n",
    "print(even2([12, 345, 2, 6, 7896]))\n",
    "print(even2([555, 901, 482, 1771]))"
   ]
  },
  {
   "cell_type": "code",
   "execution_count": null,
   "metadata": {},
   "outputs": [],
   "source": []
  }
 ],
 "metadata": {
  "kernelspec": {
   "display_name": "Python 3",
   "language": "python",
   "name": "python3"
  },
  "language_info": {
   "codemirror_mode": {
    "name": "ipython",
    "version": 3
   },
   "file_extension": ".py",
   "mimetype": "text/x-python",
   "name": "python",
   "nbconvert_exporter": "python",
   "pygments_lexer": "ipython3",
   "version": "3.8.5"
  }
 },
 "nbformat": 4,
 "nbformat_minor": 4
}
